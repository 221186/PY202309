{
 "cells": [
  {
   "cell_type": "code",
   "execution_count": 10,
   "id": "0b761757",
   "metadata": {},
   "outputs": [
    {
     "name": "stdout",
     "output_type": "stream",
     "text": [
      "** Start Lotto **\n",
      "Number:  2 5 37 38 41 45 "
     ]
    }
   ],
   "source": [
    "import random\n",
    "\n",
    "def get_number(): \n",
    "    return random.randrange(1, 46)\n",
    "\n",
    "lotto = []\n",
    "num = 0\n",
    "print('** Start Lotto **')\n",
    "\n",
    "while True:\n",
    "    num = get_number()\n",
    "    \n",
    "    if lotto.count(num) == 0:\n",
    "        lotto.append(num)\n",
    "    \n",
    "    if len(lotto) >= 6:\n",
    "        break\n",
    "        \n",
    "print('Number: ', end = ' ')\n",
    "lotto.sort()\n",
    "for number in lotto:\n",
    "    print(number, end = ' ')"
   ]
  },
  {
   "cell_type": "code",
   "execution_count": 19,
   "id": "1998ecef",
   "metadata": {},
   "outputs": [
    {
     "name": "stdout",
     "output_type": "stream",
     "text": [
      "** Start Lotto **\n",
      "1) Set the lotto numbers\n",
      "2) Set the user inputs\n",
      "Enter 1-number: 12\n",
      "Enter 2-number: 16\n",
      "Enter 3-number: 21\n",
      "Enter 4-number: 41\n",
      "Enter 5-number: 1010\n",
      "No valid number\n",
      "Enter 5-number: 19\n",
      "Enter 6-number: 45\n",
      "3) Match the numbers\n",
      "4) Check the prize\n",
      "no prize :(\n",
      "5) Sort the lists\n",
      "=== Summary ===\n",
      "Lotto numbers:  6 7 10 11 28 40\n",
      "User numbers:  12 16 19 21 41 45\n"
     ]
    }
   ],
   "source": [
    "import random \n",
    "\n",
    "def get_number():\n",
    "    return random.randrange(1, 46)\n",
    "    \n",
    "def set_lotto_numbers():\n",
    "    lotto = []\n",
    "    \n",
    "    while True: # lotto리스트에 get_number로 랜덤 숫자 6개를 출력한다.\n",
    "        lotto.append(get_number())\n",
    "        \n",
    "        if len(lotto) >= 6:\n",
    "            break\n",
    "    lotto.sort()\n",
    "    return lotto\n",
    "\n",
    "def match_numbers(user_inputs, lotto_numbers): \n",
    "        same_numbers = set(lotto_numbers) & set(user_inputs)\n",
    "        return same_numbers # user_inputs 와 lotto_numbers의 공통 숫자을 same_number에 저장한다.\n",
    "\n",
    "def check_prize(same_numbers): # same_numbers에 몇개가 맞는지를 if문을 통해 작성하고 등수를 출력한다,\n",
    "    if len(same_numbers) == 6: \n",
    "        print('1st prize! same numbers: ', *same_numbers)\n",
    "    elif len(same_numbers) == 5: \n",
    "        print('2st prize! same numbers: ', *same_numbers)\n",
    "    elif len(same_numbers) == 4: \n",
    "        print('3st prize! same numbers: ', *same_numbers)\n",
    "    elif len(same_numbers) == 3: \n",
    "        print('4st prize! same numbers: ', *same_numbers)\n",
    "    else:\n",
    "        print('no prize :(')\n",
    "    \n",
    "num = 0\n",
    "print('** Start Lotto **')\n",
    "print('1) Set the lotto numbers')\n",
    "lotto_numbers = set_lotto_numbers()\n",
    "\n",
    "print('2) Set the user inputs')\n",
    "user_inputs = []\n",
    "while True:\n",
    "    num = int(input('Enter %d-number: '%(len(user_inputs) +1)))\n",
    "    if num < 1 or num > 46:\n",
    "        print('No valid number')\n",
    "        continue\n",
    "    if user_inputs.count(num) == 0:\n",
    "        user_inputs.append(num)\n",
    "    else:\n",
    "        print('Same number')\n",
    "        continue\n",
    "    if len(user_inputs) >= 6:\n",
    "        break\n",
    "\n",
    "print('3) Match the numbers')\n",
    "same_numbers = match_numbers(user_inputs, lotto_numbers)\n",
    "\n",
    "print('4) Check the prize')\n",
    "check_prize(same_numbers)\n",
    "\n",
    "print('5) Sort the lists')\n",
    "lotto_numbers.sort()\n",
    "user_inputs.sort()\n",
    "\n",
    "print('=== Summary ===')\n",
    "print('Lotto numbers: ', *lotto_numbers)\n",
    "print('User numbers: ', *user_inputs)"
   ]
  },
  {
   "cell_type": "code",
   "execution_count": null,
   "id": "a8e22349",
   "metadata": {},
   "outputs": [],
   "source": []
  }
 ],
 "metadata": {
  "kernelspec": {
   "display_name": "Python 3 (ipykernel)",
   "language": "python",
   "name": "python3"
  },
  "language_info": {
   "codemirror_mode": {
    "name": "ipython",
    "version": 3
   },
   "file_extension": ".py",
   "mimetype": "text/x-python",
   "name": "python",
   "nbconvert_exporter": "python",
   "pygments_lexer": "ipython3",
   "version": "3.10.9"
  }
 },
 "nbformat": 4,
 "nbformat_minor": 5
}
