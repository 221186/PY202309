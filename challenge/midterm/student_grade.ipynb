{
 "cells": [
  {
   "cell_type": "code",
   "execution_count": 91,
   "id": "32597421",
   "metadata": {},
   "outputs": [
    {
     "name": "stdout",
     "output_type": "stream",
     "text": [
      "----- 학생들의 평균 점수-----\n",
      "실바의 평균 점수는 73.66666666666667입니다.\n",
      "산토스의 평균 점수는 86.93333333333334입니다.\n",
      "맥그리거의 평균 점수는 85.7입니다.\n",
      "알도의 평균 점수는 85.43333333333332입니다.\n",
      "로우지의 평균 점수는 83.10000000000001입니다.\n",
      "누네스의 평균 점수는 85.93333333333334입니다.\n"
     ]
    }
   ],
   "source": [
    "# TODO 1: 학생 정보를 딕셔너리에 저장\n",
    "def loadData(file_name): \n",
    "    student_grade = {} # 학생들의 이름과 성적을 저장할 딕셔너리를 만든다.\n",
    "    # file_name에 있는 문장들을 한 문장씩 리스트로 lines에 저장한다.\n",
    "    lines = open(file_name, \"r\", encoding=\"utf8\").readlines() \n",
    "    \n",
    "    for line in lines:\n",
    "        students_info = line.replace('\\n', '').split(',') # 학생들 정보에 끝에 '\\n'을 없애고 ','을 기준으로 토큰화 한다.\n",
    "        students_name = students_info[0][0:4] # 학생들 정보에 첫 번째 단어들의 4글자인 학생들의 이름들을 저장한다.\n",
    "        # 이름,국어,수학,영어 줄을 삭제하고 숫자,실수로 이루어진 문자열들을 모두 실수로 변환한 뒤 리스트로 만든다.\n",
    "        students_grades = list(map(float, students_info[1:][0:4]))\n",
    "        student_grade[students_name] = students_grades # 딕셔너리에 학생들 이름과 리스트의 성적들을 추가한다.\n",
    "    return student_grade\n",
    "\n",
    "\n",
    "# TODO 2: 학생 별 평균 점수를 계산\n",
    "def getAverage(grades): \n",
    "    return sum(grades) / len(grades) # grades의 파라미터로 평균을 반환한다.\n",
    "    \n",
    "student_grade = loadData('student.csv.txt') # loadData에 'student.csv.txt'파일을 넣어 반환된 딕셔너리를 변수에 저장한다.\n",
    "\n",
    "students_name_list = student_grade.keys() # 변수에 학생들 정보 중 keys값인 이름들을 저장한다.\n",
    "    \n",
    "print('----- 학생들의 평균 점수-----')\n",
    "average_grade_file = open('average_txt', 'w', encoding='utf8') # 평균 성적을 파일에 쓰고 저장한다.\n",
    "for student_name in students_name_list:\n",
    "    grade_list = student_grade[student_name] # 변수에 학생들의 성적들을 저장한다.\n",
    "    average_grade = getAverage(grade_list) # getAverager함수를 통해 평균 성적을 변수에 저장한다.\n",
    "    print(f'{student_name}의 평균 점수는 {average_grade}입니다.') # 학생들의 평균 성적을 출력한다.\n",
    "    average_grade_file.write(f'{student_name}의 평균 점수는 {average_grade}입니다.\\n') # 반복문에서 평균 성적을 받을 파일에 똑같이 학생들의 평균 성적을 작성한다.\n",
    "average_grade_file.close() # 내용을 작성한 파일을 닫는다.\n"
   ]
  },
  {
   "cell_type": "code",
   "execution_count": null,
   "id": "f181924b",
   "metadata": {},
   "outputs": [],
   "source": []
  }
 ],
 "metadata": {
  "kernelspec": {
   "display_name": "Python 3 (ipykernel)",
   "language": "python",
   "name": "python3"
  },
  "language_info": {
   "codemirror_mode": {
    "name": "ipython",
    "version": 3
   },
   "file_extension": ".py",
   "mimetype": "text/x-python",
   "name": "python",
   "nbconvert_exporter": "python",
   "pygments_lexer": "ipython3",
   "version": "3.10.9"
  }
 },
 "nbformat": 4,
 "nbformat_minor": 5
}
