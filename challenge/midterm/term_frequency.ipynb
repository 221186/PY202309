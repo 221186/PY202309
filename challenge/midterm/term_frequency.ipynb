{
 "cells": [
  {
   "cell_type": "code",
   "execution_count": 103,
   "id": "e4132ded",
   "metadata": {},
   "outputs": [
    {
     "name": "stdout",
     "output_type": "stream",
     "text": [
      "-----TF dictionary-----\n",
      "{'the': 3, 'quick': 1, 'brown': 1, 'fox': 1, 'jumps': 1, 'over': 1, 'lazy': 1, 'dog': 1, 'a': 3, 'journey': 1, 'of': 2, 'thousand': 1, 'miles': 1, 'begins': 1, 'with': 1, 'single': 1, 'step': 1, 'all': 1, 'that': 1, 'glitters': 1, 'is': 1, 'not': 1, 'gold': 1, 'in': 1, 'middle': 1, 'difficulty': 1, 'lies': 1, 'opportunity': 1, 'she': 1, 'likes': 1, 'to': 1, 'read': 1, 'books': 1}\n",
      "-----Top-3 TF terms-----\n",
      "1 the 3\n",
      "2 a 3\n",
      "3 of 2\n"
     ]
    }
   ],
   "source": [
    "import operator\n",
    "sentences = [\n",
    "    \"The quick brown fox jumps over the lazy dog.\",\n",
    "    \"A journey of a thousand miles begins with a single step.\",\n",
    "    \"All that glitters is not gold.\",    \n",
    "    \"In the middle of difficulty lies opportunity.\",\n",
    "    \"She likes to read books.\"\n",
    "]\n",
    "\n",
    "\n",
    "total_terms = set()\n",
    "\n",
    "# TODO 1: 토큰 집합 만들기\n",
    "for sentence in sentences: \n",
    "    words = sentence.replace('.', ' ').split() # words에 문장 내 점은 생략하며, 문장을 단어들로 토큰화 시켜준다.\n",
    "    for word in words:\n",
    "        lower_word = word.lower() # word의 단어들을 대,소문자 구분없이 바꾼다.\n",
    "        total_terms.add(lower_word) # 대,소문자로 바꾼 단어들을 total_terms에 추가한다.\n",
    "                \n",
    "\n",
    "term_frequency_dict = {} # 토큰 별 단어 빈도 저장할 딕셔너리\n",
    "# TODO 2: 토큰 별 단어 빈도를 딕셔너리에 저장\n",
    "for sentence in sentences: \n",
    "    words = sentence.replace('.', '').split()\n",
    "    for word in words:\n",
    "        lower_word = word.lower()\n",
    "        if lower_word in total_terms:  # total_terms 집합에 있는 단어만 처리한다.\n",
    "            if lower_word in term_frequency_dict: # lower_word가 term_frequency_dict 딕셔너리에 존재한다면 해당 단어의 빈도를 1 증가시킨다.\n",
    "                term_frequency_dict[lower_word] += 1 # 1를 증가시키고 빈도수를 누적시킨다.\n",
    "            else: # 현재 단어가 term_frequency_dict에 없다면 딕셔너리에 새로운 항목을 추가하고 해당 단어의 빈도를 1로 초기화시킨다.\n",
    "                term_frequency_dict[lower_word] = 1\n",
    "\n",
    "\n",
    "# 토큰 빈도 출력\n",
    "print(\"-----TF dictionary-----\")\n",
    "print(term_frequency_dict)\n",
    "\n",
    "\n",
    "print(\"-----Top-3 TF terms-----\")\n",
    "# TODO 3: Top-3 토큰 빈도를 갖는 단어의 순위, 단어, 빈도 출력 코드 작성\n",
    "sorted_term_frequency = sorted(term_frequency_dict.items(), key=operator.itemgetter(1), reverse=True)\n",
    "\n",
    "for rank in range(1, 4):  # 상위 3개를 출력하므로 1부터 3까지 반복한다.\n",
    "    term, frequency = sorted_term_frequency[rank - 1]  # rank는 1부터 시작하므로 인덱스는 rank - 1이다.\n",
    "    print(f\"{rank} {term} {frequency}\")"
   ]
  },
  {
   "cell_type": "code",
   "execution_count": null,
   "id": "bc45d797",
   "metadata": {},
   "outputs": [],
   "source": []
  }
 ],
 "metadata": {
  "kernelspec": {
   "display_name": "Python 3 (ipykernel)",
   "language": "python",
   "name": "python3"
  },
  "language_info": {
   "codemirror_mode": {
    "name": "ipython",
    "version": 3
   },
   "file_extension": ".py",
   "mimetype": "text/x-python",
   "name": "python",
   "nbconvert_exporter": "python",
   "pygments_lexer": "ipython3",
   "version": "3.10.9"
  }
 },
 "nbformat": 4,
 "nbformat_minor": 5
}
