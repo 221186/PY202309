{
 "cells": [
  {
   "cell_type": "code",
   "execution_count": 3,
   "id": "c6357dba",
   "metadata": {},
   "outputs": [
    {
     "name": "stdout",
     "output_type": "stream",
     "text": [
      "Enter English number ranging from 1 to 5: three\n",
      "three is 삼\n"
     ]
    }
   ],
   "source": [
    "num_dic = {'one': '일', 'two': '이', 'three': '삼', 'four': '사', 'five': '오'}\n",
    "\n",
    "eng_num_rang = input('Enter English number ranging from 1 to 5: ')\n",
    "print(eng_num_rang, 'is', num_dic[eng_num_rang]) # num_dic[eng_num_rang]은 num_dic의 value값을 반환한다."
   ]
  },
  {
   "cell_type": "code",
   "execution_count": 3,
   "id": "c290b039",
   "metadata": {},
   "outputs": [
    {
     "name": "stdout",
     "output_type": "stream",
     "text": [
      "Name:  Moving / average:  4.0\n",
      "Name:  MaskGirl / average:  3.6666666666666665\n",
      "Name:  Oppenheimer / average:  3.3333333333333335\n"
     ]
    }
   ],
   "source": [
    "ratings={'Moving':{'Misoo':4,'Kwon':3,'Soo':5},  \n",
    "         'MaskGirl':{'Misoo':3,'David':4,'Soo':4},  \n",
    "         'Oppenheimer':{'Kwon':3,'Bob':3,'David':4}}\n",
    "\n",
    "name_list = list(ratings.keys())\n",
    "\n",
    "score_list = list(ratings[name_list[0]].values())\n",
    "print('Name: ', name_list[0], '/ average: ',  sum(score_list) / len(score_list))\n",
    "\n",
    "score_list = list(ratings[name_list[1]].values())\n",
    "print('Name: ', name_list[1], '/ average: ', sum(score_list) / len(score_list))\n",
    "\n",
    "score_list = list(ratings[name_list[2]].values())\n",
    "print('Name: ', name_list[2], '/ average: ', sum(score_list) / len(score_list))"
   ]
  },
  {
   "cell_type": "code",
   "execution_count": 19,
   "id": "b929570d",
   "metadata": {},
   "outputs": [
    {
     "name": "stdout",
     "output_type": "stream",
     "text": [
      "Enter user1's 1st friend name: 철수\n",
      "Enter user1's 2st friend name: 영수\n",
      "Enter user1's 3st friend name: 영희\n",
      "Enter user2's 1rd friend name: 철희\n",
      "Enter user2's 2rd friend name: 영수\n",
      "Enter user2's 3rd friend name: 동수\n",
      "All friends:  영수 철희 영희 철수 동수\n"
     ]
    }
   ],
   "source": [
    "friend_set1 = []\n",
    "\n",
    "friend_set1.append(input(\"Enter user1's 1st friend name: \"))\n",
    "friend_set1.append(input(\"Enter user1's 2st friend name: \"))\n",
    "friend_set1.append(input(\"Enter user1's 3st friend name: \"))\n",
    "\n",
    "friend_set2 = []\n",
    "\n",
    "friend_set2.append(input(\"Enter user2's 1rd friend name: \"))\n",
    "friend_set2.append(input(\"Enter user2's 2rd friend name: \"))\n",
    "friend_set2.append(input(\"Enter user2's 3rd friend name: \"))\n",
    "\n",
    "total_friends_list = friend_set1 + friend_set2 # 두개의 리스트를 합친다\n",
    "total_friends_set = set(total_friends_list) # 여기서 set은 중복된 값을 못 가지므로 리스트를 set으로 바꿔준다.\n",
    "print('All friends: ', *total_friends_set)"
   ]
  },
  {
   "cell_type": "code",
   "execution_count": null,
   "id": "da54c96f",
   "metadata": {},
   "outputs": [],
   "source": []
  }
 ],
 "metadata": {
  "kernelspec": {
   "display_name": "Python 3 (ipykernel)",
   "language": "python",
   "name": "python3"
  },
  "language_info": {
   "codemirror_mode": {
    "name": "ipython",
    "version": 3
   },
   "file_extension": ".py",
   "mimetype": "text/x-python",
   "name": "python",
   "nbconvert_exporter": "python",
   "pygments_lexer": "ipython3",
   "version": "3.10.9"
  }
 },
 "nbformat": 4,
 "nbformat_minor": 5
}
