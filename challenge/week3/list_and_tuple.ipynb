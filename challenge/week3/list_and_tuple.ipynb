{
 "cells": [
  {
   "cell_type": "code",
   "execution_count": 1,
   "id": "0bd21f4a",
   "metadata": {},
   "outputs": [
    {
     "name": "stdout",
     "output_type": "stream",
     "text": [
      "Enter 1st number: 50\n",
      "Enter 2st number: 40\n",
      "Enter 3st number: 90\n",
      "Enter 4st number: 10\n",
      "Enter 5st number: 30\n",
      "max: 90\n",
      "min: 10\n",
      "average: 44.0\n"
     ]
    }
   ],
   "source": [
    "num_list = [] # 값을 추가할 빈 리스트를 만든다.\n",
    "\n",
    "num_1 = int(input('Enter 1st number: '))\n",
    "num_2 = int(input('Enter 2st number: '))\n",
    "num_3 = int(input('Enter 3st number: '))\n",
    "num_4 = int(input('Enter 4st number: '))\n",
    "num_5 = int(input('Enter 5st number: '))\n",
    "\n",
    "num_list.append(num_1) # num_list에 num_n에서 입력받은 값들을 추가한다.\n",
    "num_list.append(num_2)\n",
    "num_list.append(num_3)\n",
    "num_list.append(num_4)\n",
    "num_list.append(num_5)\n",
    "\n",
    "sum = num_1 + num_2 + num_3 + num_4 + num_5\n",
    "print(f'max: {max(num_list)}') # num_list에서 최대값을 출력한다.\n",
    "print(f'min: {min(num_list)}') # num_list에서 최소값을 출력한다.\n",
    "print(f'average: {sum / len(num_list)}') # num_list 값들의 합에서 길이를 나누어 평균을 구한다."
   ]
  },
  {
   "cell_type": "code",
   "execution_count": 2,
   "id": "a133121d",
   "metadata": {},
   "outputs": [
    {
     "name": "stdout",
     "output_type": "stream",
     "text": [
      "What is your favorite single? Black Pink\n",
      "['BTS', 'Black Pink', 'IU']\n"
     ]
    }
   ],
   "source": [
    "favorite_singers = ['IU', 'BTS'] # 두명의 가수가 있는 리스트를 생성한다.\n",
    "\n",
    "your_favorite_singers = input('What is your favorite single? ') # 좋아하는 가수 한명을 입력 받는다.\n",
    "favorite_singers.append(your_favorite_singers) # your_favorite_singers에서 입력받은 가수를 기존의 리스트에 추가한다.\n",
    "favorite_singers.sort()\n",
    "print(favorite_singers)"
   ]
  },
  {
   "cell_type": "code",
   "execution_count": 3,
   "id": "8951e7a1",
   "metadata": {},
   "outputs": [
    {
     "name": "stdout",
     "output_type": "stream",
     "text": [
      "('tennis', 'football', 'baseball', 'basketball', 'golf')\n",
      "Please enter one of the sport name from above:tennis\n"
     ]
    },
    {
     "ename": "TypeError",
     "evalue": "tuple indices must be integers or slices, not str",
     "output_type": "error",
     "traceback": [
      "\u001b[1;31m---------------------------------------------------------------------------\u001b[0m",
      "\u001b[1;31mTypeError\u001b[0m                                 Traceback (most recent call last)",
      "Cell \u001b[1;32mIn[3], line 5\u001b[0m\n\u001b[0;32m      2\u001b[0m \u001b[38;5;28mprint\u001b[39m(five_sports_names) \n\u001b[0;32m      4\u001b[0m one_of_the_sport \u001b[38;5;241m=\u001b[39m \u001b[38;5;28minput\u001b[39m(\u001b[38;5;124m'\u001b[39m\u001b[38;5;124mPlease enter one of the sport name from above:\u001b[39m\u001b[38;5;124m'\u001b[39m)\n\u001b[1;32m----> 5\u001b[0m \u001b[38;5;28mprint\u001b[39m(\u001b[38;5;124mf\u001b[39m\u001b[38;5;124m'\u001b[39m\u001b[38;5;132;01m{\u001b[39;00mone_of_the_sport\u001b[38;5;132;01m}\u001b[39;00m\u001b[38;5;124m has index number: \u001b[39m\u001b[38;5;132;01m{\u001b[39;00mfive_sports_names[one_of_the_sport]\u001b[38;5;132;01m}\u001b[39;00m\u001b[38;5;124m'\u001b[39m)\n\u001b[0;32m      7\u001b[0m num_input \u001b[38;5;241m=\u001b[39m \u001b[38;5;28mint\u001b[39m(\u001b[38;5;28minput\u001b[39m(\u001b[38;5;124m'\u001b[39m\u001b[38;5;124mEnter a number between 0 and 4:\u001b[39m\u001b[38;5;124m'\u001b[39m))\n\u001b[0;32m      8\u001b[0m \u001b[38;5;28mprint\u001b[39m(five_sports_names[num_input])\n",
      "\u001b[1;31mTypeError\u001b[0m: tuple indices must be integers or slices, not str"
     ]
    }
   ],
   "source": [
    "five_sports_names = ('tennis', 'football', 'baseball', 'basketball', 'golf')\n",
    "print(five_sports_names) \n",
    "\n",
    "one_of_the_sport = input('Please enter one of the sport name from above:')\n",
    "print(f'{one_of_the_sport} has index number: {five_sports_names[one_of_the_sport]}')\n",
    "\n",
    "num_input = int(input('Enter a number between 0 and 4:'))\n",
    "print(five_sports_names[num_input])"
   ]
  },
  {
   "cell_type": "code",
   "execution_count": null,
   "id": "3d2d4ae8",
   "metadata": {},
   "outputs": [
    {
     "name": "stdout",
     "output_type": "stream",
     "text": [
      "Menu: ('Americano', 'CaffeLatte', 'CaffeMocha', 'IcedTea')\n"
     ]
    }
   ],
   "source": [
    "menu = 'Americano','CaffeLatte','CaffeMocha','IcedTea'\n",
    "print(f'Menu: {menu}')\n",
    "\n",
    "item_1st = input('Enter the 1st item sold yesterday: ')\n",
    "item_2nd = input('Enter the 2nd item sold yesterday: ')\n",
    "item_3rd = input('Enter the 3rd item sold yesterday: ')\n",
    "item_4th = input('Enter the 4th item sold yesterday: ')\n",
    "item_5th = input('Enter the 5th item sold yesterday: ')\n",
    "item_1st = input('Enter the 1st item sold today: ')\n",
    "item_2nd = input('Enter the 2nd item sold today: ')\n",
    "item_3rd = input('Enter the 3rd item sold today: ')\n",
    "item_4th = input('Enter the 4th item sold today: ')\n",
    "item_5th = input('Enter the 5th item sold today: ')\n",
    "\n",
    "print()"
   ]
  },
  {
   "cell_type": "code",
   "execution_count": null,
   "id": "9fefaf51",
   "metadata": {},
   "outputs": [],
   "source": []
  }
 ],
 "metadata": {
  "kernelspec": {
   "display_name": "Python 3 (ipykernel)",
   "language": "python",
   "name": "python3"
  },
  "language_info": {
   "codemirror_mode": {
    "name": "ipython",
    "version": 3
   },
   "file_extension": ".py",
   "mimetype": "text/x-python",
   "name": "python",
   "nbconvert_exporter": "python",
   "pygments_lexer": "ipython3",
   "version": "3.10.9"
  }
 },
 "nbformat": 4,
 "nbformat_minor": 5
}
