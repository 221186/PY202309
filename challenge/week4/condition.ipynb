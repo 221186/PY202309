{
 "cells": [
  {
   "cell_type": "code",
   "execution_count": 13,
   "id": "d48d3a7e",
   "metadata": {},
   "outputs": [
    {
     "name": "stdout",
     "output_type": "stream",
     "text": [
      "Is it ranining? (Y / N): y\n",
      "Is it windy (Y / N): nn\n",
      "Incorrect Input.\n"
     ]
    }
   ],
   "source": [
    "rain = input('Is it ranining? (Y / N): ') # 사용자에게 비 유무를 묻는다.\n",
    "wind = input('Is it windy (Y / N): ') # 사용자에게 구름 유무를 묻는다.\n",
    "\n",
    "if rain == 'y' and wind == 'y': # 비도 오고 바람도 분다.\n",
    "    print('It is too windy for an umbrella.')\n",
    "    \n",
    "elif rain == 'y' and wind == 'n': # 비는 오고 바람\n",
    "    print('Take an umbrella.')\n",
    "\n",
    "elif rain == 'y' and (wind != 'y' and wind != 'n'):\n",
    "    print('Incorrect Input.')\n",
    "\n",
    "elif rain == 'n' and wind == 'y':\n",
    "    print('Pleas take a coat.')\n",
    "    \n",
    "elif rain == 'n' and wind == 'n':\n",
    "    print('Have a nice day.')\n",
    "    \n",
    "elif rain == 'n' and (wind != 'y' and wind != 'n'):\n",
    "    print('Incorrect Input.')\n",
    "    \n",
    "elif (rain != 'y' and rain != 'n') and wind == 'y':\n",
    "    print('Incorrect Input.')\n",
    "    \n",
    "elif (rain != 'y' and rain != 'n') and wind == 'n':\n",
    "    print('Incorrect Input.')\n",
    "\n",
    "else:\n",
    "    print('Incorrect Input.')"
   ]
  },
  {
   "cell_type": "code",
   "execution_count": null,
   "id": "db265bff",
   "metadata": {},
   "outputs": [],
   "source": []
  }
 ],
 "metadata": {
  "kernelspec": {
   "display_name": "Python 3 (ipykernel)",
   "language": "python",
   "name": "python3"
  },
  "language_info": {
   "codemirror_mode": {
    "name": "ipython",
    "version": 3
   },
   "file_extension": ".py",
   "mimetype": "text/x-python",
   "name": "python",
   "nbconvert_exporter": "python",
   "pygments_lexer": "ipython3",
   "version": "3.10.9"
  }
 },
 "nbformat": 4,
 "nbformat_minor": 5
}
