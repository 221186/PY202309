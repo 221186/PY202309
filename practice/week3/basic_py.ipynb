{
 "cells": [
  {
   "cell_type": "code",
   "execution_count": 5,
   "id": "5c85834a",
   "metadata": {},
   "outputs": [
    {
     "name": "stdout",
     "output_type": "stream",
     "text": [
      "1, current list =  [30, 10, 20, 50, 40]\n"
     ]
    }
   ],
   "source": [
    "# sample_list를 보여준다.\n",
    "sample_list = [30, 10, 20, 50, 40]\n",
    "print('1, current list = ', sample_list)"
   ]
  },
  {
   "cell_type": "code",
   "execution_count": 6,
   "id": "dd1f0c04",
   "metadata": {},
   "outputs": [
    {
     "name": "stdout",
     "output_type": "stream",
     "text": [
      "2, append(60) =  [30, 10, 20, 50, 40, 60]\n"
     ]
    }
   ],
   "source": [
    "# sample_list에 60을 추가한다.\n",
    "sample_list.append(60) \n",
    "print('2, append(60) = ', sample_list)"
   ]
  },
  {
   "cell_type": "code",
   "execution_count": 7,
   "id": "d6f1872d",
   "metadata": {},
   "outputs": [
    {
     "name": "stdout",
     "output_type": "stream",
     "text": [
      "3, item after pop() =  60\n",
      "4. list after pop() =  [30, 10, 20, 50, 40]\n"
     ]
    }
   ],
   "source": [
    "# sample_list의 가장 끝 리스트 값을 꺼내고 다시 리스트를 출력하면 마지막 값을 제외한 리스트를 보여준다.\n",
    "print('3, item after pop() = ', sample_list.pop())\n",
    "print('4. list after pop() = ', sample_list)"
   ]
  },
  {
   "cell_type": "code",
   "execution_count": 8,
   "id": "0cb03937",
   "metadata": {},
   "outputs": [
    {
     "name": "stdout",
     "output_type": "stream",
     "text": [
      "5. after sort() =  [10, 20, 30, 40, 50]\n"
     ]
    }
   ],
   "source": [
    "# sample_list를 정렬한다.\n",
    "sample_list.sort()\n",
    "print('5. after sort() = ', sample_list)"
   ]
  },
  {
   "cell_type": "code",
   "execution_count": 9,
   "id": "c4c6ca82",
   "metadata": {},
   "outputs": [
    {
     "name": "stdout",
     "output_type": "stream",
     "text": [
      "6. after reverse() =  [50, 40, 30, 20, 10]\n"
     ]
    }
   ],
   "source": [
    "# sample_list를 뒤집는다.\n",
    "sample_list.reverse()\n",
    "print('6. after reverse() = ', sample_list)"
   ]
  },
  {
   "cell_type": "code",
   "execution_count": 10,
   "id": "bd900ddb",
   "metadata": {},
   "outputs": [
    {
     "name": "stdout",
     "output_type": "stream",
     "text": [
      "7. index for 20 =  3\n"
     ]
    }
   ],
   "source": [
    "# sample_list에 20이 몇번째 인덱스에 있는지 확인한다.\n",
    "print('7. index for 20 = ', sample_list.index(20))"
   ]
  },
  {
   "cell_type": "code",
   "execution_count": 11,
   "id": "d58f3bb3",
   "metadata": {},
   "outputs": [
    {
     "name": "stdout",
     "output_type": "stream",
     "text": [
      "8, after insert(2, 222) =  [50, 40, 222, 30, 20, 10]\n"
     ]
    }
   ],
   "source": [
    "# sample_list의 2번째 인덱스에 222를 추가한다.\n",
    "sample_list.insert(2, 222) \n",
    "print('8, after insert(2, 222) = ', sample_list)"
   ]
  },
  {
   "cell_type": "code",
   "execution_count": 12,
   "id": "c2ea8f06",
   "metadata": {},
   "outputs": [
    {
     "name": "stdout",
     "output_type": "stream",
     "text": [
      "9. after remover(2, 222) =  [50, 40, 30, 20, 10]\n"
     ]
    }
   ],
   "source": [
    "# sample_list 안에 222를 제거한다.\n",
    "sample_list.remove(222)\n",
    "print('9. after remover(2, 222) = ', sample_list)"
   ]
  },
  {
   "cell_type": "code",
   "execution_count": 13,
   "id": "9ff25872",
   "metadata": {},
   "outputs": [
    {
     "name": "stdout",
     "output_type": "stream",
     "text": [
      "10. after extend([100, 20, 100]) =  [50, 40, 30, 20, 10, 100, 200, 100]\n"
     ]
    }
   ],
   "source": [
    "# sample_list 마지막에 new_list를 추가한다.\n",
    "new_list = [100, 200, 100]\n",
    "sample_list.extend(new_list)\n",
    "print('10. after extend([100, 20, 100]) = ', sample_list)"
   ]
  },
  {
   "cell_type": "code",
   "execution_count": 14,
   "id": "f4175a46",
   "metadata": {},
   "outputs": [
    {
     "name": "stdout",
     "output_type": "stream",
     "text": [
      "11. the number of 100 =  2\n"
     ]
    }
   ],
   "source": [
    "# sample_list 안에 100이 몇개 있는지 카운트한다.\n",
    "print('11. the number of 100 = ', sample_list.count(100))"
   ]
  },
  {
   "cell_type": "markdown",
   "id": "ed5bccaf",
   "metadata": {},
   "source": [
    "## turtle"
   ]
  },
  {
   "cell_type": "code",
   "execution_count": 18,
   "id": "395b0dcb",
   "metadata": {},
   "outputs": [
    {
     "name": "stdout",
     "output_type": "stream",
     "text": [
      "turtle bye !\n"
     ]
    }
   ],
   "source": [
    "import turtle \n",
    "t = turtle.Turtle()\n",
    "radius_list = [100, 200, 50]\n",
    "move = 20 \n",
    "\n",
    "t.shape('turtle')\n",
    "\n",
    "for i in range(0, len(radius_list)):\n",
    "    radius = radius_list[i]\n",
    "    t.circle(radius) # radius 수 만큼 원을 그린다.\n",
    "    t.fd(move) # move만큼 거북이가 직진한다.\n",
    "    \n",
    "turtle.done()\n",
    "try:\n",
    "    turtle.bye()\n",
    "except:\n",
    "    print('turtle bye !')"
   ]
  },
  {
   "cell_type": "markdown",
   "id": "f8a16924",
   "metadata": {},
   "source": [
    "## Challenges"
   ]
  },
  {
   "cell_type": "code",
   "execution_count": 19,
   "id": "4db55e48",
   "metadata": {},
   "outputs": [
    {
     "name": "stdout",
     "output_type": "stream",
     "text": [
      "Enter 1st number: 50\n",
      "Enter 2st number: 40\n",
      "Enter 3st number: 90\n",
      "Enter 4st number: 10\n",
      "Enter 5st number: 30\n",
      "max: 90\n",
      "min: 10\n",
      "average: 44.0\n"
     ]
    }
   ],
   "source": [
    "num_list = [] # 값을 추가할 빈 리스트를 만든다.\n",
    "\n",
    "num_1 = int(input('Enter 1st number: '))\n",
    "num_2 = int(input('Enter 2st number: '))\n",
    "num_3 = int(input('Enter 3st number: '))\n",
    "num_4 = int(input('Enter 4st number: '))\n",
    "num_5 = int(input('Enter 5st number: '))\n",
    "\n",
    "num_list.append(num_1) # num_list에 num_n에서 입력받은 값들을 추가한다.\n",
    "num_list.append(num_2)\n",
    "num_list.append(num_3)\n",
    "num_list.append(num_4)\n",
    "num_list.append(num_5)\n",
    "\n",
    "sum = num_1 + num_2 + num_3 + num_4 + num_5\n",
    "print(f'max: {max(num_list)}') # num_list에서 최대값을 출력한다.\n",
    "print(f'min: {min(num_list)}') # num_list에서 최소값을 출력한다.\n",
    "print(f'average: {sum / len(num_list)}') # num_list 값들의 합에서 길이를 나누어 평균을 구한다."
   ]
  },
  {
   "cell_type": "code",
   "execution_count": 3,
   "id": "8a3c227f",
   "metadata": {},
   "outputs": [
    {
     "name": "stdout",
     "output_type": "stream",
     "text": [
      "What is your favorite single? Black Pink\n",
      "['BTS', 'Black Pink', 'IU']\n"
     ]
    }
   ],
   "source": [
    "favorite_singers = ['IU', 'BTS'] # 두명의 가수가 있는 리스트를 생성한다.\n",
    "\n",
    "your_favorite_singers = input('What is your favorite single? ') # 좋아하는 가수 한명을 입력 받는다.\n",
    "favorite_singers.append(your_favorite_singers) # your_favorite_singers에서 입력받은 가수를 기존의 리스트에 추가한다.\n",
    "favorite_singers.sort()\n",
    "print(favorite_singers)"
   ]
  },
  {
   "cell_type": "code",
   "execution_count": 4,
   "id": "47754fae",
   "metadata": {},
   "outputs": [
    {
     "name": "stdout",
     "output_type": "stream",
     "text": [
      "('tennis', 'football', 'baseball', 'basketball', 'golf')\n",
      "Please enter one of the sport name from above:football\n"
     ]
    },
    {
     "ename": "TypeError",
     "evalue": "tuple indices must be integers or slices, not str",
     "output_type": "error",
     "traceback": [
      "\u001b[1;31m---------------------------------------------------------------------------\u001b[0m",
      "\u001b[1;31mTypeError\u001b[0m                                 Traceback (most recent call last)",
      "Cell \u001b[1;32mIn[4], line 5\u001b[0m\n\u001b[0;32m      2\u001b[0m \u001b[38;5;28mprint\u001b[39m(five_sports_names) \n\u001b[0;32m      4\u001b[0m one_of_the_sport \u001b[38;5;241m=\u001b[39m \u001b[38;5;28minput\u001b[39m(\u001b[38;5;124m'\u001b[39m\u001b[38;5;124mPlease enter one of the sport name from above:\u001b[39m\u001b[38;5;124m'\u001b[39m)\n\u001b[1;32m----> 5\u001b[0m \u001b[38;5;28mprint\u001b[39m(\u001b[38;5;124mf\u001b[39m\u001b[38;5;124m'\u001b[39m\u001b[38;5;132;01m{\u001b[39;00mone_of_the_sport\u001b[38;5;132;01m}\u001b[39;00m\u001b[38;5;124m has index number: \u001b[39m\u001b[38;5;132;01m{\u001b[39;00mfive_sports_names[one_of_the_sport]\u001b[38;5;132;01m}\u001b[39;00m\u001b[38;5;124m'\u001b[39m)\n\u001b[0;32m      7\u001b[0m num_input \u001b[38;5;241m=\u001b[39m \u001b[38;5;28mint\u001b[39m(\u001b[38;5;28minput\u001b[39m(\u001b[38;5;124m'\u001b[39m\u001b[38;5;124mEnter a number between 0 and 4:\u001b[39m\u001b[38;5;124m'\u001b[39m))\n\u001b[0;32m      8\u001b[0m \u001b[38;5;28mprint\u001b[39m(five_sports_names[num_input])\n",
      "\u001b[1;31mTypeError\u001b[0m: tuple indices must be integers or slices, not str"
     ]
    }
   ],
   "source": [
    "five_sports_names = ('tennis', 'football', 'baseball', 'basketball', 'golf')\n",
    "print(five_sports_names) \n",
    "\n",
    "one_of_the_sport = input('Please enter one of the sport name from above:')\n",
    "print(f'{one_of_the_sport} has index number: {five_sports_names[one_of_the_sport]}')\n",
    "\n",
    "num_input = int(input('Enter a number between 0 and 4:'))\n",
    "print(five_sports_names[num_input])"
   ]
  },
  {
   "cell_type": "code",
   "execution_count": null,
   "id": "ee066e50",
   "metadata": {},
   "outputs": [
    {
     "name": "stdout",
     "output_type": "stream",
     "text": [
      "Menu: ('Americano', 'CaffeLatte', 'CaffeMocha', 'IcedTea')\n",
      "Enter the 1st item sold yesterday: item_ist = input('Enter the 1st item sold yesterday: ')\n"
     ]
    }
   ],
   "source": [
    "menu = 'Americano','CaffeLatte','CaffeMocha','IcedTea'\n",
    "print(f'Menu: {menu}')\n",
    "\n",
    "item_1st = input('Enter the 1st item sold yesterday: ')\n",
    "item_2nd = input('Enter the 2nd item sold yesterday: ')\n",
    "item_3rd = input('Enter the 3rd item sold yesterday: ')\n",
    "item_4th = input('Enter the 4th item sold yesterday: ')\n",
    "item_5th = input('Enter the 5th item sold yesterday: ')\n",
    "item_1st = input('Enter the 1st item sold today: ')\n",
    "item_2nd = input('Enter the 2nd item sold today: ')\n",
    "item_3rd = input('Enter the 3rd item sold ye: ')\n",
    "item_4th = input('Enter the 4th item sold yesterday: ')\n",
    "item_5th = input('Enter the 5th item sold yesterday: ')"
   ]
  },
  {
   "cell_type": "code",
   "execution_count": null,
   "id": "9134ea8b",
   "metadata": {},
   "outputs": [],
   "source": []
  }
 ],
 "metadata": {
  "kernelspec": {
   "display_name": "Python 3 (ipykernel)",
   "language": "python",
   "name": "python3"
  },
  "language_info": {
   "codemirror_mode": {
    "name": "ipython",
    "version": 3
   },
   "file_extension": ".py",
   "mimetype": "text/x-python",
   "name": "python",
   "nbconvert_exporter": "python",
   "pygments_lexer": "ipython3",
   "version": "3.10.9"
  }
 },
 "nbformat": 4,
 "nbformat_minor": 5
}
