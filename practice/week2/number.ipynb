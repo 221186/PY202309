{
 "cells": [
  {
   "cell_type": "code",
   "execution_count": 11,
   "metadata": {},
   "outputs": [
    {
     "name": "stdout",
     "output_type": "stream",
     "text": [
      "What go you call a bear with no teeth ?\n",
      "A gummy bear !\n"
     ]
    }
   ],
   "source": [
    "print('What go you call a bear with no teeth ?\\nA gummy bear !') # \\n를 통해 한 문장을 두 문장으로 줄 바꿈 해줬다."
   ]
  },
  {
   "cell_type": "code",
   "execution_count": 8,
   "metadata": {},
   "outputs": [
    {
     "name": "stdout",
     "output_type": "stream",
     "text": [
      "Enter your name:seunghyen\n",
      "Hello seunghyen\n"
     ]
    }
   ],
   "source": [
    "your_name = input('Enter your name:') # 자신의 이름을 입력한다.\n",
    "print(f'Hello {your_name}') # your_name에 저장된 자신의 이름을 f.string을 통해 출력한다."
   ]
  },
  {
   "cell_type": "code",
   "execution_count": 7,
   "metadata": {},
   "outputs": [
    {
     "name": "stdout",
     "output_type": "stream",
     "text": [
      "Enter your name:seunghyen\n",
      "Enter your last name:jung\n",
      "Hello seunghyen jung\n"
     ]
    }
   ],
   "source": [
    "your_name = input('Enter your name:')  # 자신의 이름을 입력한다.\n",
    "last_name = input('Enter your last name:') # 자신의 라스트 이름을 입력한다.\n",
    "print(f'Hello {your_name} {last_name}') # your_name과 last_name에 저장된 자신의 이름을 f.string을 통해 출력한다."
   ]
  },
  {
   "cell_type": "code",
   "execution_count": 6,
   "metadata": {},
   "outputs": [
    {
     "name": "stdout",
     "output_type": "stream",
     "text": [
      "Enter the first number:10\n",
      "Enter the second number:30\n",
      "10 + 30 = 40\n"
     ]
    }
   ],
   "source": [
    "first_num = int(input('Enter the first number:')) # 사용자로부터 첫 번째 숫자를 입력받는다.\n",
    "second_num = int(input('Enter the second number:')) # 사용자로부터 두 번째 숫자를 입력받는다\n",
    "\n",
    "sum = first_num + second_num # 두 수의 합을 sum변수에 저장한다.\n",
    "print(f'{first_num} + {second_num} = {sum}')"
   ]
  },
  {
   "cell_type": "code",
   "execution_count": 15,
   "metadata": {},
   "outputs": [
    {
     "name": "stdout",
     "output_type": "stream",
     "text": [
      "Enter the first number:10\n",
      "Enter the second number:20\n",
      "Enter the third number:30\n",
      "10 + (20 * 30) = 900\n",
      "(10 + 20) * 30 = 900\n"
     ]
    }
   ],
   "source": [
    "first_num = int(input('Enter the first number:')) # 사용자로부터 첫 번째 숫자를 입력받는다.\n",
    "second_num = int(input('Enter the second number:')) # 사용자로부터 두 번째 숫자를 입력받는다\n",
    "third_num = int(input('Enter the third number:')) # 사용자로부터 세 번째 숫자를 입력받는다\n",
    "\n",
    "print(f'{first_num} + ({second_num} * {third_num}) = {number}')\n",
    "print(f'({first_num} + {second_num}) * {third_num} = {number}')"
   ]
  },
  {
   "cell_type": "code",
   "execution_count": 17,
   "metadata": {},
   "outputs": [
    {
     "name": "stdout",
     "output_type": "stream",
     "text": [
      "Enter the number of slices of pizza you started with: 10\n",
      "How many slices have you eaten? 5\n",
      "You have 5 slicing remaining.\n"
     ]
    }
   ],
   "source": [
    "pizza_slices = int(input('Enter the number of slices of pizza you started with: '))\n",
    "eaten_pizza_slices = int(input('How many slices have you eaten? '))\n",
    "\n",
    "print(f'You have {pizza_slices - eaten_pizza_slices} slicing remaining.')"
   ]
  },
  {
   "cell_type": "code",
   "execution_count": 20,
   "metadata": {},
   "outputs": [
    {
     "name": "stdout",
     "output_type": "stream",
     "text": [
      "What is your name? seunghyen\n",
      "How old are you? 21\n",
      "seunghyen, next birthday you will be 21\n"
     ]
    }
   ],
   "source": [
    "name = input('What is your name? ')\n",
    "age = int(input('How old are you? '))\n",
    "\n",
    "print(f'{name}, next birthday you will be {age}')"
   ]
  },
  {
   "cell_type": "code",
   "execution_count": 21,
   "metadata": {},
   "outputs": [
    {
     "name": "stdout",
     "output_type": "stream",
     "text": [
      "What is the total cost of the bill?5500\n",
      "How many people are there?3\n",
      "Each person should pay 16500 won.\n"
     ]
    }
   ],
   "source": [
    "total_bill = int(input('What is the total cost of the bill?')) # 한 사람당 비용을 받는다.\n",
    "many_people = int(input('How many people are there?'))\n",
    "\n",
    "print(f'Each person should pay {total_bill * many_people} won.')"
   ]
  },
  {
   "cell_type": "code",
   "execution_count": null,
   "metadata": {},
   "outputs": [],
   "source": []
  }
 ],
 "metadata": {
  "kernelspec": {
   "display_name": "Python 3",
   "language": "python",
   "name": "python3"
  },
  "language_info": {
   "codemirror_mode": {
    "name": "ipython",
    "version": 3
   },
   "file_extension": ".py",
   "mimetype": "text/x-python",
   "name": "python",
   "nbconvert_exporter": "python",
   "pygments_lexer": "ipython3",
   "version": "3.8.3"
  }
 },
 "nbformat": 4,
 "nbformat_minor": 4
}
