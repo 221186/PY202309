{
 "cells": [
  {
   "cell_type": "code",
   "execution_count": 14,
   "id": "30616e4d",
   "metadata": {},
   "outputs": [
    {
     "name": "stdout",
     "output_type": "stream",
     "text": [
      "20231016\n",
      "정승현\n",
      "불어불문학과\n",
      "\n"
     ]
    }
   ],
   "source": [
    "f = open('test.txt', 'r', encoding='UTF-8')\n",
    "read = f.read()\n",
    "print(read)"
   ]
  },
  {
   "cell_type": "code",
   "execution_count": 26,
   "id": "55d32462",
   "metadata": {},
   "outputs": [
    {
     "name": "stdout",
     "output_type": "stream",
     "text": [
      "20231016\n",
      "정승현\n",
      "불어불문학과\n"
     ]
    }
   ],
   "source": [
    "readlist = []\n",
    "f = open('test.txt', 'r', encoding='UTF-8')\n",
    "\n",
    "readlist = f.readlines()\n",
    "for readfor in readlist:\n",
    "    print(readfor, end='')\n"
   ]
  },
  {
   "cell_type": "code",
   "execution_count": 30,
   "id": "41f08396",
   "metadata": {},
   "outputs": [
    {
     "ename": "TypeError",
     "evalue": "write() argument must be str, not list",
     "output_type": "error",
     "traceback": [
      "\u001b[1;31m---------------------------------------------------------------------------\u001b[0m",
      "\u001b[1;31mTypeError\u001b[0m                                 Traceback (most recent call last)",
      "Cell \u001b[1;32mIn[30], line 16\u001b[0m\n\u001b[0;32m     13\u001b[0m fp\u001b[38;5;241m.\u001b[39mclose\n\u001b[0;32m     15\u001b[0m fp \u001b[38;5;241m=\u001b[39m \u001b[38;5;28mopen\u001b[39m(\u001b[38;5;124m'\u001b[39m\u001b[38;5;124mdata_line.txt\u001b[39m\u001b[38;5;124m'\u001b[39m, \u001b[38;5;124m'\u001b[39m\u001b[38;5;124mw\u001b[39m\u001b[38;5;124m'\u001b[39m)\n\u001b[1;32m---> 16\u001b[0m \u001b[43mfp\u001b[49m\u001b[38;5;241;43m.\u001b[39;49m\u001b[43mwrite\u001b[49m\u001b[43m(\u001b[49m\u001b[43mlines\u001b[49m\u001b[43m)\u001b[49m\n\u001b[0;32m     17\u001b[0m fp\u001b[38;5;241m.\u001b[39mclose\n",
      "\u001b[1;31mTypeError\u001b[0m: write() argument must be str, not list"
     ]
    }
   ],
   "source": [
    "lines = ['첫번째 줄 입니다.', '두번째 줄 입니다.']\n",
    "\n",
    "fp = open('data_lines.txt', 'w')\n",
    "fp.writelines(lines)\n",
    "fp.close\n",
    "\n",
    "fp = open('data_lines_join.txt', 'w')\n",
    "fp.writelines(' \\n'.join(lines))\n",
    "fp.close\n",
    "\n",
    "fp = open('data_line_join.txt', 'w')\n",
    "fp.writelines(' \\n'.join(lines))\n",
    "fp.close\n",
    "\n",
    "fp = open('data_line.txt', 'w')\n",
    "fp.write(lines)\n",
    "fp.close\n"
   ]
  },
  {
   "cell_type": "code",
   "execution_count": 32,
   "id": "f7c7a8a0",
   "metadata": {},
   "outputs": [
    {
     "name": "stdout",
     "output_type": "stream",
     "text": [
      "Input a source file path & name: data.txt\n",
      "Out a source file path & name: data_copy.txt\n",
      "========= Finish to copy the file ===========\n"
     ]
    }
   ],
   "source": [
    "in_fp, out_fp = None, None \n",
    "read_str = ''\n",
    "\n",
    "in_file_path = input('Input a source file path & name: ')\n",
    "out_file_path = input('Out a source file path & name: ')\n",
    "\n",
    "in_fp = open(in_file_path, 'r', encoding='UTF8')\n",
    "out_fp = open(out_file_path, 'w', encoding='UTF8')\n",
    "\n",
    "in_lines = in_fp.readlines()\n",
    "for in_str in in_lines:\n",
    "    out_fp.writelines(in_str)\n",
    "    \n",
    "in_fp.close()\n",
    "out_fp.close()\n",
    "print('========= Finish to copy the file ===========')"
   ]
  },
  {
   "cell_type": "code",
   "execution_count": 43,
   "id": "e45eb369",
   "metadata": {},
   "outputs": [
    {
     "name": "stdout",
     "output_type": "stream",
     "text": [
      "1. 암호화, 2. 복호화 중 선택하세요: 2\n",
      "입력 파일 이름을 입력하세요: data_enc.txt\n",
      "출력 파일 이름을 입력하세요: data_dec.txt\n",
      "퍰 54028 파\n",
      "쟘 51060 이\n",
      "쏐 50028 썬\n",
      "잨 51012 을\n",
      " 32  \n",
      "굙 44277 공\n",
      "뷤 48512 부\n",
      "헍 54633 합\n",
      "댬 45768 니\n",
      "덈 45796 다\n",
      " 46 .\n",
      "n 10 \n",
      "\n",
      "점 51116 재\n",
      "뱜 48120 미\n",
      "쟬 51080 있\n",
      "닸 45716 는\n",
      " 32  \n",
      "옪 50630 없\n",
      "잨 51012 을\n",
      " 32  \n",
      "쉼 49688 수\n",
      "됨 46020 도\n",
      " 32  \n",
      "쟬 51080 있\n",
      "옘 50612 어\n",
      "웸 50836 요\n",
      " 46 .\n",
      "n 10 \n",
      "\n",
      "깜 44536 그\n",
      "캼 52824 치\n",
      "먰 47564 만\n",
      " 32  \n",
      "범 48176 배\n",
      "윔 50864 우\n",
      "뫘 47732 면\n",
      " 32  \n",
      "앜 50424 쓸\n",
      " 32  \n",
      "굗 44275 곳\n",
      "잤 51008 은\n",
      " 32  \n",
      "먲 47566 많\n",
      "얨 50500 아\n",
      "웸 50836 요\n",
      " 46 .\n",
      "data_enc.txt --> data_dec.txt Finish to transform\n"
     ]
    }
   ],
   "source": [
    "choice = int(input('1. 암호화, 2. 복호화 중 선택하세요: '))\n",
    "in_filename = input('입력 파일 이름을 입력하세요: ')\n",
    "out_filename = input('출력 파일 이름을 입력하세요: ')\n",
    "\n",
    "token_jump = 0\n",
    "\n",
    "if choice == 1:\n",
    "    token_jump = 100\n",
    "elif choice == 2:\n",
    "    token_jump = -100\n",
    "    \n",
    "in_fp = open(in_filename, 'r', encoding='utf8')\n",
    "out_fp = open(out_filename, 'w', encoding='utf8')\n",
    "\n",
    "in_lines = in_fp.readlines()\n",
    "\n",
    "for in_line in in_lines:\n",
    "    out_str = ''\n",
    "    for i in range(0, len(in_line)):\n",
    "        ch = in_line[i]\n",
    "        ch_num = ord(ch)\n",
    "        ch_num = ch_num + token_jump\n",
    "        ch2 = chr(ch_num)\n",
    "        out_str += ch2\n",
    "        print(ch, ch_num,ch2)\n",
    "    \n",
    "    out_fp.write(out_str)\n",
    "    \n",
    "out_fp.close()\n",
    "in_fp.close()\n",
    "print('%s --> %s Finish to transform'%(in_filename, out_filename))"
   ]
  },
  {
   "cell_type": "code",
   "execution_count": null,
   "id": "384651ee",
   "metadata": {},
   "outputs": [],
   "source": []
  }
 ],
 "metadata": {
  "kernelspec": {
   "display_name": "Python 3 (ipykernel)",
   "language": "python",
   "name": "python3"
  },
  "language_info": {
   "codemirror_mode": {
    "name": "ipython",
    "version": 3
   },
   "file_extension": ".py",
   "mimetype": "text/x-python",
   "name": "python",
   "nbconvert_exporter": "python",
   "pygments_lexer": "ipython3",
   "version": "3.10.9"
  }
 },
 "nbformat": 4,
 "nbformat_minor": 5
}
