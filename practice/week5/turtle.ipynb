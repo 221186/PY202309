{
 "cells": [
  {
   "cell_type": "code",
   "execution_count": null,
   "id": "4cb8ccbc",
   "metadata": {},
   "outputs": [],
   "source": [
    "import turtle\n",
    "\n",
    "# 화면 크기 설정\n",
    "screen_width, screen_height = 100, 100\n",
    "\n",
    "# 거북이 화면 설정\n",
    "turtle.title('Drawing rainbow circles')  # 거북이 창 제목 설정\n",
    "turtle.shape('turtle')  # 거북이 모양 설정\n",
    "turtle.setup(width=screen_width+50, height=screen_height+50)  # 창 크기 설정\n",
    "turtle.screensize(screen_width, screen_height)  # 거북이 화면 크기 설정\n",
    "turtle.penup()  # 펜 들기\n",
    "turtle.goto(0, -screen_height / 2)  # 시작 위치 설정\n",
    "turtle.pendown()  # 펜 내리기\n",
    "turtle.speed(5)  # 거북이 속도 설정\n",
    "\n",
    "# 원을 그리는 반복문\n",
    "for radius in range(1, 50):\n",
    "    # 원의 색상을 변경하는 조건문\n",
    "    if radius % 7 == 0:\n",
    "        turtle.pencolor('red')  # 반경이 7의 배수일 때 빨간색으로 설정\n",
    "    elif radius % 7 == 1:\n",
    "        turtle.pencolor('orange')  # 나머지 경우에 따라 색상 설정\n",
    "    elif radius % 7 == 2:\n",
    "        turtle.pencolor('yellow')\n",
    "    elif radius % 7 == 3:\n",
    "        turtle.pencolor('green')\n",
    "    elif radius % 7 == 4:\n",
    "        turtle.pencolor('blue')\n",
    "    elif radius % 7 == 5:\n",
    "        turtle.pencolor('navy')\n",
    "    elif radius % 7 == 6:\n",
    "        turtle.pencolor('purple')\n",
    "        \n",
    "    turtle.circle(radius)  # 원 그리기\n",
    "\n",
    "turtle.done()  # 거북이 그림 완료 후 종료\n"
   ]
  }
 ],
 "metadata": {
  "kernelspec": {
   "display_name": "Python 3 (ipykernel)",
   "language": "python",
   "name": "python3"
  },
  "language_info": {
   "codemirror_mode": {
    "name": "ipython",
    "version": 3
   },
   "file_extension": ".py",
   "mimetype": "text/x-python",
   "name": "python",
   "nbconvert_exporter": "python",
   "pygments_lexer": "ipython3",
   "version": "3.10.9"
  }
 },
 "nbformat": 4,
 "nbformat_minor": 5
}
