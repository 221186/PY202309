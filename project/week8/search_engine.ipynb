{
 "cells": [
  {
   "cell_type": "code",
   "execution_count": 3,
   "id": "76cd7952",
   "metadata": {},
   "outputs": [
    {
     "name": "stdout",
     "output_type": "stream",
     "text": [
      "영어 쿼리를 입력하세요.my name\n",
      "rank\tIndex\tscore\tsentence\n",
      "1\t679\t0.5\tMy name is Mike.\n",
      "2\t526\t0.2\tBob is my brother.\n",
      "3\t538\t0.2\tMy hobby is traveling.\n",
      "4\t453\t0.16666666666666666\tMy mother is sketching them.\n",
      "5\t667\t0.16666666666666666\tMike: I'm cleaning my room.\n",
      "6\t195\t0.14285714285714285\tHi, my fans. My name's Diana Rich.\n",
      "7\t241\t0.14285714285714285\tMy father is running with So-ra.\n",
      "8\t336\t0.14285714285714285\tMy family is at the park.\n",
      "9\t388\t0.14285714285714285\tI even have my feet pickled!\n",
      "10\t564\t0.14285714285714285\tBut my grandfather wasn't so kind.\n"
     ]
    }
   ],
   "source": [
    "import operator\n",
    "\n",
    "def preprocess(sentence):\n",
    "    preprocess_sentence = sentence.strip().split(\" \") # 토큰화 한다.\n",
    "    return preprocess_sentence\n",
    "\n",
    "def indexing(file_name):\n",
    "    # 검색 대상 파일을 불러오고 preprocess함수를 통해 토큰화를 한다음 반복문을 통해 리스트에 저장한다.\n",
    "    file_tokens_pairs = []\n",
    "    lines = open(file_name, \"r\", encoding=\"utf8\").readlines()\n",
    "    for line in lines:\n",
    "        tokens = preprocess(line) \n",
    "        file_tokens_pairs.append(tokens)\n",
    "    return file_tokens_pairs\n",
    "\n",
    "def calc_similarity(preprocessed_query, preprocessed_sentences):\n",
    "    score_dict = {} # 검색 쿼리와 검색 대상 문장들에서 모든 토큰과 공통 토큰을 찾아보고 유사 토큰을 score_dict에 저장한다.\n",
    "    for i in range(len(preprocessed_sentences)):\n",
    "        # sentence에 prepreocessed_sentences의 리스트형태를 저장한다.\n",
    "        sentence = preprocessed_sentences[i]\n",
    "        # 토큰화 된 쿼리를 띄어쓰기를 기준으로 나눠 문자열로 바꿔준 뒤 소문자로 바꾼다.\n",
    "        query_str = ' '.join(preprocessed_query).lower()\n",
    "        # sentence는 리스트형이므로 띄어쓰기를 기준으로 나눠 문자열로 바꿔준 뒤 소문자로 변환한다.\n",
    "        sentence_str = ' '.join(sentence).lower()\n",
    "        # set의 합집합, 교집합 기호를 사용하기 위해 set으로 바꿔준다.\n",
    "        preprocessed_query = set(preprocess(query_str))\n",
    "        # 소문자로 바뀐 검색 파일을 토큰화 해준다.\n",
    "        preprocess_sentence = preprocess(sentence_str)\n",
    "        # set의 합집합, 교집합 기호를 사용하기 위해 set으로 바꿔준다.\n",
    "        file_token_set = set(preprocess_sentence)\n",
    "        \n",
    "        all_tokens = query_token_set | file_token_set \n",
    "        same_tokens = query_token_set & file_token_set\n",
    "        similarity = len(same_tokens) / len(all_tokens)\n",
    "        score_dict[i] = similarity\n",
    "    return score_dict\n",
    "\n",
    "\n",
    "# 1. Indexing\n",
    "file_name = \"jhe-koen-dev.en\"\n",
    "file_tokens_pairs = indexing(file_name)\n",
    "\n",
    "# 2. Input the query\n",
    "query = input(\"영어 쿼리를 입력하세요.\") # 검색 쿼리를 모두 소문자로 바꿔준다.\n",
    "preprocessed_query = preprocess(query)\n",
    "query_token_set = set(preprocessed_query)\n",
    "\n",
    "# 3. Calculate similarities based on a same token set\n",
    "score_dict = calc_similarity(query_token_set, file_tokens_pairs)\n",
    "\n",
    "# 4. Sort the similarity list\n",
    "sorted_score_list = sorted(score_dict.items(), key = operator.itemgetter(1), reverse=True)\n",
    "\n",
    "# 5. Print the result\n",
    "if sorted_score_list[0][1] == 0.0:\n",
    "    print(\"There is no similar sentence.\")\n",
    "else:\n",
    "    print(\"rank\", \"Index\", \"score\", \"sentence\", sep = \"\\t\")\n",
    "    rank = 1\n",
    "    for i, score  in sorted_score_list:\n",
    "        print(rank, i, score, ' '.join(file_tokens_pairs[i]), sep = \"\\t\")\n",
    "        if rank == 10:\n",
    "            break\n",
    "        rank = rank + 1"
   ]
  },
  {
   "cell_type": "code",
   "execution_count": null,
   "id": "aa4cad16",
   "metadata": {},
   "outputs": [],
   "source": []
  }
 ],
 "metadata": {
  "kernelspec": {
   "display_name": "Python 3 (ipykernel)",
   "language": "python",
   "name": "python3"
  },
  "language_info": {
   "codemirror_mode": {
    "name": "ipython",
    "version": 3
   },
   "file_extension": ".py",
   "mimetype": "text/x-python",
   "name": "python",
   "nbconvert_exporter": "python",
   "pygments_lexer": "ipython3",
   "version": "3.10.9"
  }
 },
 "nbformat": 4,
 "nbformat_minor": 5
}
