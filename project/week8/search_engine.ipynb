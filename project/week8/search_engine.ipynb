{
 "cells": [
  {
   "cell_type": "code",
   "execution_count": 7,
   "id": "c581f6c3",
   "metadata": {
    "scrolled": true
   },
   "outputs": [
    {
     "name": "stdout",
     "output_type": "stream",
     "text": [
      "영어 쿼리를 입력하세요.Hello my name is jsh\n",
      "rank\tIndex\tscore\tsentence\n",
      "1\t679\t0.5\tMy name is Mike.\n",
      "2\t526\t0.2857142857142857\tBob is my brother.\n",
      "3\t538\t0.2857142857142857\tMy hobby is traveling.\n",
      "4\t453\t0.25\tMy mother is sketching them.\n",
      "5\t241\t0.2222222222222222\tMy father is running with So-ra.\n",
      "6\t336\t0.2222222222222222\tMy family is at the park.\n",
      "7\t212\t0.2\tMy sister Betty is waiting for me.\n",
      "8\t505\t0.18181818181818182\tMy little sister Annie is five years old.\n",
      "9\t610\t0.15384615384615385\tI would raise my voice and yell, \"LUNCH IS READY!\"\n",
      "10\t190\t0.14285714285714285\tIt is Sunday.\n"
     ]
    }
   ],
   "source": [
    "import operator\n",
    "\n",
    "def preprocess(sentence):\n",
    "    preprocess_sentence = sentence.strip().split(\" \") # 토큰화 한다.\n",
    "    return preprocess_sentence\n",
    "\n",
    "def indexing(file_name):\n",
    "    # 검색 대상 파일을 불러오고 preprocess함수를 통해 토큰화를 한다음 반복문을 통해 리스트에 저장한다.\n",
    "    file_tokens_pairs = []\n",
    "    lines = open(file_name, \"r\", encoding=\"utf8\").readlines()\n",
    "    for line in lines:\n",
    "        tokens = preprocess(line) \n",
    "        file_tokens_pairs.append(tokens)\n",
    "    return file_tokens_pairs\n",
    "\n",
    "def calc_similarity(preprocessed_query, preprocessed_sentences):\n",
    "    score_dict = {} # 검색 쿼리와 검색 대상 문장들에서 모든 토큰과 공통 토큰을 찾아보고 유사 토큰을 score_dict에 저장한다.\n",
    "    for i in range(len(preprocessed_sentences)):\n",
    "        \n",
    "        # sentence에 prepreocessed_sentences의 리스트형태를 저장한다.\n",
    "        sentence = preprocessed_sentences[i]\n",
    "        # sentence는 리스트형이므로 띄어쓰기를 기준으로 나눠 문자열로 바꿔준 뒤 소문자로 변환한다.\n",
    "        sentence_str = ' '.join(sentence).lower()\n",
    "        # 소문자로 바뀐 검색 파일을 토큰화 해준다.\n",
    "        preprocess_sentence = preprocess(sentence_str)\n",
    "        # set의 합집합, 교집합 기호를 사용하기 위해 set으로 바꿔준다.\n",
    "        file_token_set = set(preprocess_sentence)\n",
    "        \n",
    "        all_tokens = query_token_set | file_token_set \n",
    "        same_tokens = query_token_set & file_token_set\n",
    "        similarity = len(same_tokens) / len(all_tokens)\n",
    "        score_dict[i] = similarity\n",
    "    return score_dict\n",
    "\n",
    "\n",
    "# 1. Indexing\n",
    "file_name = \"jhe-koen-dev.en\"\n",
    "file_tokens_pairs = indexing(file_name)\n",
    "\n",
    "# 2. Input the query\n",
    "query = input(\"영어 쿼리를 입력하세요.\").lower() # 검색 쿼리를 모두 소문자로 바꿔준다.\n",
    "preprocessed_query = preprocess(query)\n",
    "query_token_set = set(preprocessed_query)\n",
    "\n",
    "# 3. Calculate similarities based on a same token set\n",
    "score_dict = calc_similarity(query_token_set, file_tokens_pairs)\n",
    "\n",
    "# 4. Sort the similarity list\n",
    "sorted_score_list = sorted(score_dict.items(), key = operator.itemgetter(1), reverse=True)\n",
    "\n",
    "# 5. Print the result\n",
    "if sorted_score_list[0][1] == 0.0:\n",
    "    print(\"There is no similar sentence.\")\n",
    "else:\n",
    "    print(\"rank\", \"Index\", \"score\", \"sentence\", sep = \"\\t\")\n",
    "    rank = 1\n",
    "    for i, score  in sorted_score_list:\n",
    "        print(rank, i, score, ' '.join(file_tokens_pairs[i]), sep = \"\\t\")\n",
    "        if rank == 10:\n",
    "            break\n",
    "        rank = rank + 1"
   ]
  },
  {
   "cell_type": "code",
   "execution_count": null,
   "id": "ad4970dc",
   "metadata": {},
   "outputs": [],
   "source": []
  }
 ],
 "metadata": {
  "kernelspec": {
   "display_name": "Python 3 (ipykernel)",
   "language": "python",
   "name": "python3"
  },
  "language_info": {
   "codemirror_mode": {
    "name": "ipython",
    "version": 3
   },
   "file_extension": ".py",
   "mimetype": "text/x-python",
   "name": "python",
   "nbconvert_exporter": "python",
   "pygments_lexer": "ipython3",
   "version": "3.10.9"
  }
 },
 "nbformat": 4,
 "nbformat_minor": 5
}
